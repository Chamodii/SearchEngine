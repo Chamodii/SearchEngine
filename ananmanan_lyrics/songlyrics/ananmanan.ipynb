{
 "cells": [
  {
   "cell_type": "code",
   "execution_count": 84,
   "metadata": {},
   "outputs": [],
   "source": [
    "import pandas as pd\n",
    "import json\n",
    "from pandas.io.json import json_normalize"
   ]
  },
  {
   "cell_type": "code",
   "execution_count": 85,
   "metadata": {},
   "outputs": [],
   "source": [
    "with open('/home/chamath/Academics/Information Retrieval/scrapy/sinhala_lyrics/songlyrics/songlyrics/lyricsstatsnew.json', 'r') as f:\n",
    "    data_stats = json.load(f)"
   ]
  },
  {
   "cell_type": "code",
   "execution_count": 86,
   "metadata": {},
   "outputs": [],
   "source": [
    "stats = pd.DataFrame(data_stats)"
   ]
  },
  {
   "cell_type": "code",
   "execution_count": 88,
   "metadata": {},
   "outputs": [
    {
     "data": {
      "text/plain": [
       "(376, 6)"
      ]
     },
     "execution_count": 88,
     "metadata": {},
     "output_type": "execute_result"
    }
   ],
   "source": [
    "stats.shape"
   ]
  },
  {
   "cell_type": "code",
   "execution_count": 89,
   "metadata": {},
   "outputs": [],
   "source": [
    "with open('/home/chamath/Academics/Information Retrieval/scrapy/sinhala_lyrics/songlyrics/songlyrics/lyricsunicodenew.json', 'r') as f:\n",
    "    data_lyrics = json.load(f)"
   ]
  },
  {
   "cell_type": "code",
   "execution_count": 90,
   "metadata": {},
   "outputs": [],
   "source": [
    "lyrics = pd.DataFrame(data_lyrics)"
   ]
  },
  {
   "cell_type": "code",
   "execution_count": 91,
   "metadata": {},
   "outputs": [
    {
     "data": {
      "text/html": [
       "<div>\n",
       "<style scoped>\n",
       "    .dataframe tbody tr th:only-of-type {\n",
       "        vertical-align: middle;\n",
       "    }\n",
       "\n",
       "    .dataframe tbody tr th {\n",
       "        vertical-align: top;\n",
       "    }\n",
       "\n",
       "    .dataframe thead th {\n",
       "        text-align: right;\n",
       "    }\n",
       "</style>\n",
       "<table border=\"1\" class=\"dataframe\">\n",
       "  <thead>\n",
       "    <tr style=\"text-align: right;\">\n",
       "      <th></th>\n",
       "      <th>artist</th>\n",
       "      <th>lyrics</th>\n",
       "      <th>title</th>\n",
       "    </tr>\n",
       "  </thead>\n",
       "  <tbody>\n",
       "    <tr>\n",
       "      <th>0</th>\n",
       "      <td>Samitha Mudunkotuwa</td>\n",
       "      <td>[ඉර පායා.. ඉර පායා, \\r\\nකළුවර හදකට අවපස සඳකට ,...</td>\n",
       "      <td>Ira Paaya Ira Paaya</td>\n",
       "    </tr>\n",
       "    <tr>\n",
       "      <th>1</th>\n",
       "      <td>Somathilaka Jayamaha</td>\n",
       "      <td>[පියමන් කෙරුවෙමු මහවේ මැද්දෙන්, \\r\\nපෙම් බස් ද...</td>\n",
       "      <td>Piyaman Keruwemu Maha Wel Madden</td>\n",
       "    </tr>\n",
       "    <tr>\n",
       "      <th>2</th>\n",
       "      <td>Edward Jayakody</td>\n",
       "      <td>[මාලතී වසන්තේ, \\r\\nමාරුතේ සැලෙන්නේ, \\r\\nමේ පහන...</td>\n",
       "      <td>Malathi Wasanthe Maruthe Salenne</td>\n",
       "    </tr>\n",
       "    <tr>\n",
       "      <th>3</th>\n",
       "      <td>H R Jothipala</td>\n",
       "      <td>[ඇහෙනවනම් හිත හඬන තරම් , \\r\\nකිසිවෙකු නෑ ලොව හ...</td>\n",
       "      <td>Ahenawanam Sitha Hadana Tharam</td>\n",
       "    </tr>\n",
       "    <tr>\n",
       "      <th>4</th>\n",
       "      <td>Dimanka Wellalage</td>\n",
       "      <td>[මා මේ තරම් හඬවලා හීන අහුරා තියා, \\r\\nතව හිතක්...</td>\n",
       "      <td>Ma Me Tharam Handawala</td>\n",
       "    </tr>\n",
       "  </tbody>\n",
       "</table>\n",
       "</div>"
      ],
      "text/plain": [
       "                 artist                                             lyrics  \\\n",
       "0   Samitha Mudunkotuwa  [ඉර පායා.. ඉර පායා, \\r\\nකළුවර හදකට අවපස සඳකට ,...   \n",
       "1  Somathilaka Jayamaha  [පියමන් කෙරුවෙමු මහවේ මැද්දෙන්, \\r\\nපෙම් බස් ද...   \n",
       "2       Edward Jayakody  [මාලතී වසන්තේ, \\r\\nමාරුතේ සැලෙන්නේ, \\r\\nමේ පහන...   \n",
       "3         H R Jothipala  [ඇහෙනවනම් හිත හඬන තරම් , \\r\\nකිසිවෙකු නෑ ලොව හ...   \n",
       "4     Dimanka Wellalage  [මා මේ තරම් හඬවලා හීන අහුරා තියා, \\r\\nතව හිතක්...   \n",
       "\n",
       "                              title  \n",
       "0               Ira Paaya Ira Paaya  \n",
       "1  Piyaman Keruwemu Maha Wel Madden  \n",
       "2  Malathi Wasanthe Maruthe Salenne  \n",
       "3    Ahenawanam Sitha Hadana Tharam  \n",
       "4            Ma Me Tharam Handawala  "
      ]
     },
     "execution_count": 91,
     "metadata": {},
     "output_type": "execute_result"
    }
   ],
   "source": [
    "lyrics.head()"
   ]
  },
  {
   "cell_type": "code",
   "execution_count": 92,
   "metadata": {},
   "outputs": [
    {
     "data": {
      "text/plain": [
       "(450, 3)"
      ]
     },
     "execution_count": 92,
     "metadata": {},
     "output_type": "execute_result"
    }
   ],
   "source": [
    "lyrics.shape"
   ]
  },
  {
   "cell_type": "code",
   "execution_count": 93,
   "metadata": {},
   "outputs": [
    {
     "data": {
      "text/html": [
       "<div>\n",
       "<style scoped>\n",
       "    .dataframe tbody tr th:only-of-type {\n",
       "        vertical-align: middle;\n",
       "    }\n",
       "\n",
       "    .dataframe tbody tr th {\n",
       "        vertical-align: top;\n",
       "    }\n",
       "\n",
       "    .dataframe thead th {\n",
       "        text-align: right;\n",
       "    }\n",
       "</style>\n",
       "<table border=\"1\" class=\"dataframe\">\n",
       "  <thead>\n",
       "    <tr style=\"text-align: right;\">\n",
       "      <th></th>\n",
       "      <th>artist</th>\n",
       "      <th>lyrics</th>\n",
       "      <th>title</th>\n",
       "    </tr>\n",
       "  </thead>\n",
       "  <tbody>\n",
       "    <tr>\n",
       "      <th>409</th>\n",
       "      <td>Susil Fernando</td>\n",
       "      <td>[ලස්සන අඹ ගසක් සොයාලා, \\r\\nලස්සන කූඩුවක් සදාලා...</td>\n",
       "      <td>Lassana Amba Gasak Soyala</td>\n",
       "    </tr>\n",
       "    <tr>\n",
       "      <th>416</th>\n",
       "      <td>M S Fernando</td>\n",
       "      <td>[ලස්සන අඹ ගසක් සොයාලා, \\r\\nලස්සන කූඩුවක් සදාලා...</td>\n",
       "      <td>Lassana Amba Gasak Soyala</td>\n",
       "    </tr>\n",
       "  </tbody>\n",
       "</table>\n",
       "</div>"
      ],
      "text/plain": [
       "             artist                                             lyrics  \\\n",
       "409  Susil Fernando  [ලස්සන අඹ ගසක් සොයාලා, \\r\\nලස්සන කූඩුවක් සදාලා...   \n",
       "416    M S Fernando  [ලස්සන අඹ ගසක් සොයාලා, \\r\\nලස්සන කූඩුවක් සදාලා...   \n",
       "\n",
       "                         title  \n",
       "409  Lassana Amba Gasak Soyala  \n",
       "416  Lassana Amba Gasak Soyala  "
      ]
     },
     "execution_count": 93,
     "metadata": {},
     "output_type": "execute_result"
    }
   ],
   "source": [
    "idl = lyrics[\"title\"]\n",
    "lyrics[idl.isin(idl[idl.duplicated()])]"
   ]
  },
  {
   "cell_type": "code",
   "execution_count": 94,
   "metadata": {},
   "outputs": [],
   "source": [
    "lyrics = lyrics.drop(409)"
   ]
  },
  {
   "cell_type": "code",
   "execution_count": 95,
   "metadata": {},
   "outputs": [
    {
     "data": {
      "text/html": [
       "<div>\n",
       "<style scoped>\n",
       "    .dataframe tbody tr th:only-of-type {\n",
       "        vertical-align: middle;\n",
       "    }\n",
       "\n",
       "    .dataframe tbody tr th {\n",
       "        vertical-align: top;\n",
       "    }\n",
       "\n",
       "    .dataframe thead th {\n",
       "        text-align: right;\n",
       "    }\n",
       "</style>\n",
       "<table border=\"1\" class=\"dataframe\">\n",
       "  <thead>\n",
       "    <tr style=\"text-align: right;\">\n",
       "      <th></th>\n",
       "      <th>artist</th>\n",
       "      <th>lyrics</th>\n",
       "      <th>title</th>\n",
       "    </tr>\n",
       "  </thead>\n",
       "  <tbody>\n",
       "  </tbody>\n",
       "</table>\n",
       "</div>"
      ],
      "text/plain": [
       "Empty DataFrame\n",
       "Columns: [artist, lyrics, title]\n",
       "Index: []"
      ]
     },
     "execution_count": 95,
     "metadata": {},
     "output_type": "execute_result"
    }
   ],
   "source": [
    "idl = lyrics[\"title\"]\n",
    "lyrics[idl.isin(idl[idl.duplicated()])]"
   ]
  },
  {
   "cell_type": "code",
   "execution_count": 96,
   "metadata": {},
   "outputs": [
    {
     "data": {
      "text/plain": [
       "(449, 3)"
      ]
     },
     "execution_count": 96,
     "metadata": {},
     "output_type": "execute_result"
    }
   ],
   "source": [
    "lyrics.shape"
   ]
  },
  {
   "cell_type": "code",
   "execution_count": 97,
   "metadata": {},
   "outputs": [
    {
     "data": {
      "text/html": [
       "<div>\n",
       "<style scoped>\n",
       "    .dataframe tbody tr th:only-of-type {\n",
       "        vertical-align: middle;\n",
       "    }\n",
       "\n",
       "    .dataframe tbody tr th {\n",
       "        vertical-align: top;\n",
       "    }\n",
       "\n",
       "    .dataframe thead th {\n",
       "        text-align: right;\n",
       "    }\n",
       "</style>\n",
       "<table border=\"1\" class=\"dataframe\">\n",
       "  <thead>\n",
       "    <tr style=\"text-align: right;\">\n",
       "      <th></th>\n",
       "      <th>artist_en</th>\n",
       "      <th>date</th>\n",
       "      <th>downloads</th>\n",
       "      <th>plays</th>\n",
       "      <th>size</th>\n",
       "      <th>title_en</th>\n",
       "    </tr>\n",
       "  </thead>\n",
       "  <tbody>\n",
       "    <tr>\n",
       "      <th>182</th>\n",
       "      <td>Viraj Perera</td>\n",
       "      <td>2012-07-09</td>\n",
       "      <td>416,230</td>\n",
       "      <td>5,436</td>\n",
       "      <td>1.65 MB</td>\n",
       "      <td>Hemin Sare</td>\n",
       "    </tr>\n",
       "    <tr>\n",
       "      <th>223</th>\n",
       "      <td>Kushani Sandarekha</td>\n",
       "      <td>2015-09-10</td>\n",
       "      <td>3,548</td>\n",
       "      <td>347</td>\n",
       "      <td>1.82 MB</td>\n",
       "      <td>Hemin Sare</td>\n",
       "    </tr>\n",
       "    <tr>\n",
       "      <th>340</th>\n",
       "      <td>Susil Fernando</td>\n",
       "      <td>2015-05-17</td>\n",
       "      <td>2,224</td>\n",
       "      <td>323</td>\n",
       "      <td>1.44 MB</td>\n",
       "      <td>Lassana Amba Gasak Soyala</td>\n",
       "    </tr>\n",
       "    <tr>\n",
       "      <th>343</th>\n",
       "      <td>M S Fernando</td>\n",
       "      <td>2015-05-17</td>\n",
       "      <td>15,423</td>\n",
       "      <td>963</td>\n",
       "      <td>1.32 MB</td>\n",
       "      <td>Lassana Amba Gasak Soyala</td>\n",
       "    </tr>\n",
       "  </tbody>\n",
       "</table>\n",
       "</div>"
      ],
      "text/plain": [
       "              artist_en        date downloads  plays     size  \\\n",
       "182        Viraj Perera  2012-07-09   416,230  5,436  1.65 MB   \n",
       "223  Kushani Sandarekha  2015-09-10     3,548    347  1.82 MB   \n",
       "340      Susil Fernando  2015-05-17     2,224    323  1.44 MB   \n",
       "343        M S Fernando  2015-05-17    15,423    963  1.32 MB   \n",
       "\n",
       "                      title_en  \n",
       "182                 Hemin Sare  \n",
       "223                 Hemin Sare  \n",
       "340  Lassana Amba Gasak Soyala  \n",
       "343  Lassana Amba Gasak Soyala  "
      ]
     },
     "execution_count": 97,
     "metadata": {},
     "output_type": "execute_result"
    }
   ],
   "source": [
    "ids = stats[\"title_en\"]\n",
    "stats[ids.isin(ids[ids.duplicated()])]"
   ]
  },
  {
   "cell_type": "code",
   "execution_count": 98,
   "metadata": {},
   "outputs": [],
   "source": [
    "stats = stats.drop([223,340])"
   ]
  },
  {
   "cell_type": "code",
   "execution_count": 99,
   "metadata": {},
   "outputs": [
    {
     "data": {
      "text/html": [
       "<div>\n",
       "<style scoped>\n",
       "    .dataframe tbody tr th:only-of-type {\n",
       "        vertical-align: middle;\n",
       "    }\n",
       "\n",
       "    .dataframe tbody tr th {\n",
       "        vertical-align: top;\n",
       "    }\n",
       "\n",
       "    .dataframe thead th {\n",
       "        text-align: right;\n",
       "    }\n",
       "</style>\n",
       "<table border=\"1\" class=\"dataframe\">\n",
       "  <thead>\n",
       "    <tr style=\"text-align: right;\">\n",
       "      <th></th>\n",
       "      <th>artist_en</th>\n",
       "      <th>date</th>\n",
       "      <th>downloads</th>\n",
       "      <th>plays</th>\n",
       "      <th>size</th>\n",
       "      <th>title_en</th>\n",
       "    </tr>\n",
       "  </thead>\n",
       "  <tbody>\n",
       "  </tbody>\n",
       "</table>\n",
       "</div>"
      ],
      "text/plain": [
       "Empty DataFrame\n",
       "Columns: [artist_en, date, downloads, plays, size, title_en]\n",
       "Index: []"
      ]
     },
     "execution_count": 99,
     "metadata": {},
     "output_type": "execute_result"
    }
   ],
   "source": [
    "ids = stats[\"title_en\"]\n",
    "stats[ids.isin(ids[ids.duplicated()])]"
   ]
  },
  {
   "cell_type": "code",
   "execution_count": 100,
   "metadata": {},
   "outputs": [
    {
     "data": {
      "text/plain": [
       "(374, 6)"
      ]
     },
     "execution_count": 100,
     "metadata": {},
     "output_type": "execute_result"
    }
   ],
   "source": [
    "stats.shape"
   ]
  },
  {
   "cell_type": "code",
   "execution_count": 101,
   "metadata": {},
   "outputs": [],
   "source": [
    "lyrics.rename({'title': 'title_en', 'artist':'artist_en'}, axis=1, inplace=True)"
   ]
  },
  {
   "cell_type": "code",
   "execution_count": 102,
   "metadata": {},
   "outputs": [
    {
     "data": {
      "text/html": [
       "<div>\n",
       "<style scoped>\n",
       "    .dataframe tbody tr th:only-of-type {\n",
       "        vertical-align: middle;\n",
       "    }\n",
       "\n",
       "    .dataframe tbody tr th {\n",
       "        vertical-align: top;\n",
       "    }\n",
       "\n",
       "    .dataframe thead th {\n",
       "        text-align: right;\n",
       "    }\n",
       "</style>\n",
       "<table border=\"1\" class=\"dataframe\">\n",
       "  <thead>\n",
       "    <tr style=\"text-align: right;\">\n",
       "      <th></th>\n",
       "      <th>artist_en</th>\n",
       "      <th>date</th>\n",
       "      <th>downloads</th>\n",
       "      <th>plays</th>\n",
       "      <th>size</th>\n",
       "      <th>title_en</th>\n",
       "    </tr>\n",
       "  </thead>\n",
       "  <tbody>\n",
       "    <tr>\n",
       "      <th>0</th>\n",
       "      <td>H R Jothipala</td>\n",
       "      <td>2011-08-15</td>\n",
       "      <td>147,831</td>\n",
       "      <td>4,310</td>\n",
       "      <td>3.52 MB</td>\n",
       "      <td>Ahenawanam Sitha Hadana Tharam</td>\n",
       "    </tr>\n",
       "    <tr>\n",
       "      <th>1</th>\n",
       "      <td>Red</td>\n",
       "      <td>2015-04-29</td>\n",
       "      <td>133,010</td>\n",
       "      <td>2,931</td>\n",
       "      <td>1.27 MB</td>\n",
       "      <td>Raja Malige Paraviya Wage</td>\n",
       "    </tr>\n",
       "    <tr>\n",
       "      <th>2</th>\n",
       "      <td>Amarasiri Peiris</td>\n",
       "      <td>2015-04-15</td>\n",
       "      <td>6,440</td>\n",
       "      <td>561</td>\n",
       "      <td>1.37 MB</td>\n",
       "      <td>Rathu Rosa Mal Yaye</td>\n",
       "    </tr>\n",
       "    <tr>\n",
       "      <th>3</th>\n",
       "      <td>Namal Udugama</td>\n",
       "      <td>2011-06-27</td>\n",
       "      <td>78,870</td>\n",
       "      <td>3,598</td>\n",
       "      <td>3.45 MB</td>\n",
       "      <td>Samuganne Na Wenwanne Na</td>\n",
       "    </tr>\n",
       "    <tr>\n",
       "      <th>4</th>\n",
       "      <td>Victor Rathnayaka &amp; Nirmala Ranathunga</td>\n",
       "      <td>2011-09-15</td>\n",
       "      <td>17,520</td>\n",
       "      <td>1,876</td>\n",
       "      <td>3.48 MB</td>\n",
       "      <td>Amba Gas Yata Mal Halila</td>\n",
       "    </tr>\n",
       "  </tbody>\n",
       "</table>\n",
       "</div>"
      ],
      "text/plain": [
       "                                artist_en        date downloads  plays  \\\n",
       "0                           H R Jothipala  2011-08-15   147,831  4,310   \n",
       "1                                     Red  2015-04-29   133,010  2,931   \n",
       "2                        Amarasiri Peiris  2015-04-15     6,440    561   \n",
       "3                           Namal Udugama  2011-06-27    78,870  3,598   \n",
       "4  Victor Rathnayaka & Nirmala Ranathunga  2011-09-15    17,520  1,876   \n",
       "\n",
       "      size                        title_en  \n",
       "0  3.52 MB  Ahenawanam Sitha Hadana Tharam  \n",
       "1  1.27 MB       Raja Malige Paraviya Wage  \n",
       "2  1.37 MB             Rathu Rosa Mal Yaye  \n",
       "3  3.45 MB        Samuganne Na Wenwanne Na  \n",
       "4  3.48 MB        Amba Gas Yata Mal Halila  "
      ]
     },
     "execution_count": 102,
     "metadata": {},
     "output_type": "execute_result"
    }
   ],
   "source": [
    "stats.head()"
   ]
  },
  {
   "cell_type": "code",
   "execution_count": 103,
   "metadata": {},
   "outputs": [
    {
     "data": {
      "text/html": [
       "<div>\n",
       "<style scoped>\n",
       "    .dataframe tbody tr th:only-of-type {\n",
       "        vertical-align: middle;\n",
       "    }\n",
       "\n",
       "    .dataframe tbody tr th {\n",
       "        vertical-align: top;\n",
       "    }\n",
       "\n",
       "    .dataframe thead th {\n",
       "        text-align: right;\n",
       "    }\n",
       "</style>\n",
       "<table border=\"1\" class=\"dataframe\">\n",
       "  <thead>\n",
       "    <tr style=\"text-align: right;\">\n",
       "      <th></th>\n",
       "      <th>artist_en</th>\n",
       "      <th>lyrics</th>\n",
       "      <th>title_en</th>\n",
       "    </tr>\n",
       "  </thead>\n",
       "  <tbody>\n",
       "    <tr>\n",
       "      <th>0</th>\n",
       "      <td>Samitha Mudunkotuwa</td>\n",
       "      <td>[ඉර පායා.. ඉර පායා, \\r\\nකළුවර හදකට අවපස සඳකට ,...</td>\n",
       "      <td>Ira Paaya Ira Paaya</td>\n",
       "    </tr>\n",
       "    <tr>\n",
       "      <th>1</th>\n",
       "      <td>Somathilaka Jayamaha</td>\n",
       "      <td>[පියමන් කෙරුවෙමු මහවේ මැද්දෙන්, \\r\\nපෙම් බස් ද...</td>\n",
       "      <td>Piyaman Keruwemu Maha Wel Madden</td>\n",
       "    </tr>\n",
       "    <tr>\n",
       "      <th>2</th>\n",
       "      <td>Edward Jayakody</td>\n",
       "      <td>[මාලතී වසන්තේ, \\r\\nමාරුතේ සැලෙන්නේ, \\r\\nමේ පහන...</td>\n",
       "      <td>Malathi Wasanthe Maruthe Salenne</td>\n",
       "    </tr>\n",
       "    <tr>\n",
       "      <th>3</th>\n",
       "      <td>H R Jothipala</td>\n",
       "      <td>[ඇහෙනවනම් හිත හඬන තරම් , \\r\\nකිසිවෙකු නෑ ලොව හ...</td>\n",
       "      <td>Ahenawanam Sitha Hadana Tharam</td>\n",
       "    </tr>\n",
       "    <tr>\n",
       "      <th>4</th>\n",
       "      <td>Dimanka Wellalage</td>\n",
       "      <td>[මා මේ තරම් හඬවලා හීන අහුරා තියා, \\r\\nතව හිතක්...</td>\n",
       "      <td>Ma Me Tharam Handawala</td>\n",
       "    </tr>\n",
       "  </tbody>\n",
       "</table>\n",
       "</div>"
      ],
      "text/plain": [
       "              artist_en                                             lyrics  \\\n",
       "0   Samitha Mudunkotuwa  [ඉර පායා.. ඉර පායා, \\r\\nකළුවර හදකට අවපස සඳකට ,...   \n",
       "1  Somathilaka Jayamaha  [පියමන් කෙරුවෙමු මහවේ මැද්දෙන්, \\r\\nපෙම් බස් ද...   \n",
       "2       Edward Jayakody  [මාලතී වසන්තේ, \\r\\nමාරුතේ සැලෙන්නේ, \\r\\nමේ පහන...   \n",
       "3         H R Jothipala  [ඇහෙනවනම් හිත හඬන තරම් , \\r\\nකිසිවෙකු නෑ ලොව හ...   \n",
       "4     Dimanka Wellalage  [මා මේ තරම් හඬවලා හීන අහුරා තියා, \\r\\nතව හිතක්...   \n",
       "\n",
       "                           title_en  \n",
       "0               Ira Paaya Ira Paaya  \n",
       "1  Piyaman Keruwemu Maha Wel Madden  \n",
       "2  Malathi Wasanthe Maruthe Salenne  \n",
       "3    Ahenawanam Sitha Hadana Tharam  \n",
       "4            Ma Me Tharam Handawala  "
      ]
     },
     "execution_count": 103,
     "metadata": {},
     "output_type": "execute_result"
    }
   ],
   "source": [
    "lyrics.head()"
   ]
  },
  {
   "cell_type": "code",
   "execution_count": 107,
   "metadata": {},
   "outputs": [],
   "source": [
    "# stats = stats.set_index('title_en')\n",
    "# lyrics = lyrics.set_index('title_en')"
   ]
  },
  {
   "cell_type": "code",
   "execution_count": 108,
   "metadata": {},
   "outputs": [
    {
     "data": {
      "text/html": [
       "<div>\n",
       "<style scoped>\n",
       "    .dataframe tbody tr th:only-of-type {\n",
       "        vertical-align: middle;\n",
       "    }\n",
       "\n",
       "    .dataframe tbody tr th {\n",
       "        vertical-align: top;\n",
       "    }\n",
       "\n",
       "    .dataframe thead th {\n",
       "        text-align: right;\n",
       "    }\n",
       "</style>\n",
       "<table border=\"1\" class=\"dataframe\">\n",
       "  <thead>\n",
       "    <tr style=\"text-align: right;\">\n",
       "      <th></th>\n",
       "      <th>artist_en_x</th>\n",
       "      <th>date</th>\n",
       "      <th>downloads</th>\n",
       "      <th>plays</th>\n",
       "      <th>size</th>\n",
       "      <th>title_en</th>\n",
       "      <th>artist_en_y</th>\n",
       "      <th>lyrics</th>\n",
       "    </tr>\n",
       "  </thead>\n",
       "  <tbody>\n",
       "    <tr>\n",
       "      <th>0</th>\n",
       "      <td>H R Jothipala</td>\n",
       "      <td>2011-08-15</td>\n",
       "      <td>147,831</td>\n",
       "      <td>4,310</td>\n",
       "      <td>3.52 MB</td>\n",
       "      <td>Ahenawanam Sitha Hadana Tharam</td>\n",
       "      <td>H R Jothipala</td>\n",
       "      <td>[ඇහෙනවනම් හිත හඬන තරම් , \\r\\nකිසිවෙකු නෑ ලොව හ...</td>\n",
       "    </tr>\n",
       "    <tr>\n",
       "      <th>1</th>\n",
       "      <td>Red</td>\n",
       "      <td>2015-04-29</td>\n",
       "      <td>133,010</td>\n",
       "      <td>2,931</td>\n",
       "      <td>1.27 MB</td>\n",
       "      <td>Raja Malige Paraviya Wage</td>\n",
       "      <td>Red</td>\n",
       "      <td>[රාජ මාළිඟේ පරවියා වගේ, \\r\\nජීවිතේ මගේ මම ගෙවන...</td>\n",
       "    </tr>\n",
       "    <tr>\n",
       "      <th>2</th>\n",
       "      <td>Amarasiri Peiris</td>\n",
       "      <td>2015-04-15</td>\n",
       "      <td>6,440</td>\n",
       "      <td>561</td>\n",
       "      <td>1.37 MB</td>\n",
       "      <td>Rathu Rosa Mal Yaye</td>\n",
       "      <td>Amarasiri Peiris</td>\n",
       "      <td>[රතු රෝස මල් යායේ, \\r\\nමුදු සීත පිනි වෑහේ, \\r\\...</td>\n",
       "    </tr>\n",
       "    <tr>\n",
       "      <th>3</th>\n",
       "      <td>Victor Rathnayaka &amp; Nirmala Ranathunga</td>\n",
       "      <td>2011-09-15</td>\n",
       "      <td>17,520</td>\n",
       "      <td>1,876</td>\n",
       "      <td>3.48 MB</td>\n",
       "      <td>Amba Gas Yata Mal Halila</td>\n",
       "      <td>Victor Rathnayaka</td>\n",
       "      <td>[අඹ ගස් යට මල් හැලිලා , \\r\\nසුවඳේ බැරුවා ඉඳින්...</td>\n",
       "    </tr>\n",
       "    <tr>\n",
       "      <th>4</th>\n",
       "      <td>Victor Rathnayake</td>\n",
       "      <td>2016-04-07</td>\n",
       "      <td>15,785</td>\n",
       "      <td>1,358</td>\n",
       "      <td>1.59 MB</td>\n",
       "      <td>Me Sira Geya Bindinu Manawi</td>\n",
       "      <td>Victor Rathnayaka</td>\n",
       "      <td>[මේ සිරගෙය බිඳිනු මැනවි , \\r\\nඔබ මා සිරකර තැබූ...</td>\n",
       "    </tr>\n",
       "  </tbody>\n",
       "</table>\n",
       "</div>"
      ],
      "text/plain": [
       "                              artist_en_x        date downloads  plays  \\\n",
       "0                           H R Jothipala  2011-08-15   147,831  4,310   \n",
       "1                                     Red  2015-04-29   133,010  2,931   \n",
       "2                        Amarasiri Peiris  2015-04-15     6,440    561   \n",
       "3  Victor Rathnayaka & Nirmala Ranathunga  2011-09-15    17,520  1,876   \n",
       "4                       Victor Rathnayake  2016-04-07    15,785  1,358   \n",
       "\n",
       "      size                        title_en        artist_en_y  \\\n",
       "0  3.52 MB  Ahenawanam Sitha Hadana Tharam      H R Jothipala   \n",
       "1  1.27 MB       Raja Malige Paraviya Wage                Red   \n",
       "2  1.37 MB             Rathu Rosa Mal Yaye   Amarasiri Peiris   \n",
       "3  3.48 MB        Amba Gas Yata Mal Halila  Victor Rathnayaka   \n",
       "4  1.59 MB     Me Sira Geya Bindinu Manawi  Victor Rathnayaka   \n",
       "\n",
       "                                              lyrics  \n",
       "0  [ඇහෙනවනම් හිත හඬන තරම් , \\r\\nකිසිවෙකු නෑ ලොව හ...  \n",
       "1  [රාජ මාළිඟේ පරවියා වගේ, \\r\\nජීවිතේ මගේ මම ගෙවන...  \n",
       "2  [රතු රෝස මල් යායේ, \\r\\nමුදු සීත පිනි වෑහේ, \\r\\...  \n",
       "3  [අඹ ගස් යට මල් හැලිලා , \\r\\nසුවඳේ බැරුවා ඉඳින්...  \n",
       "4  [මේ සිරගෙය බිඳිනු මැනවි , \\r\\nඔබ මා සිරකර තැබූ...  "
      ]
     },
     "execution_count": 108,
     "metadata": {},
     "output_type": "execute_result"
    }
   ],
   "source": [
    "mergedStuff = pd.merge(stats, lyrics, on=['title_en'], how='inner')\n",
    "mergedStuff.head()"
   ]
  },
  {
   "cell_type": "code",
   "execution_count": 109,
   "metadata": {},
   "outputs": [
    {
     "data": {
      "text/plain": [
       "(180, 8)"
      ]
     },
     "execution_count": 109,
     "metadata": {},
     "output_type": "execute_result"
    }
   ],
   "source": [
    "mergedStuff.shape"
   ]
  },
  {
   "cell_type": "code",
   "execution_count": null,
   "metadata": {},
   "outputs": [],
   "source": []
  }
 ],
 "metadata": {
  "kernelspec": {
   "display_name": "Python 3",
   "language": "python",
   "name": "python3"
  },
  "language_info": {
   "codemirror_mode": {
    "name": "ipython",
    "version": 3
   },
   "file_extension": ".py",
   "mimetype": "text/x-python",
   "name": "python",
   "nbconvert_exporter": "python",
   "pygments_lexer": "ipython3",
   "version": "3.6.8"
  }
 },
 "nbformat": 4,
 "nbformat_minor": 2
}
